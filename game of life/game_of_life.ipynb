{
  "nbformat": 4,
  "nbformat_minor": 0,
  "metadata": {
    "colab": {
      "name": "game of life.ipynb",
      "provenance": [],
      "collapsed_sections": []
    },
    "kernelspec": {
      "name": "python3",
      "display_name": "Python 3"
    },
    "language_info": {
      "name": "python"
    }
  },
  "cells": [
    {
      "cell_type": "code",
      "metadata": {
        "id": "hHpdEAr7yUg-"
      },
      "source": [
        "def find_neighbours(arr,i,j):\n",
        "\n",
        "    if i == 0 or i == len(arr) - 1 or j == 0 or j == len(arr[i]) - 1:\n",
        "        # corners\n",
        "        new_neighbors = []\n",
        "\n",
        "        if j!=0 and i!=0:\n",
        "            new_neighbors.append(arr[i - 1][j-1])  # top left neighbor\n",
        "\n",
        "        if i != 0:\n",
        "            new_neighbors.append(arr[i - 1][j])  # top neighbor\n",
        "\n",
        "        if i!=0 and j!=len(arr)-1:\n",
        "            new_neighbors.append(arr[i - 1][j+1])  # top right neighbor\n",
        "\n",
        "        if j != len(arr[i]) - 1:\n",
        "            new_neighbors.append(arr[i][j + 1])  # right neighbor\n",
        "        \n",
        "        if i != len(arr)-1 and j != len(arr)-1:\n",
        "            new_neighbors.append(arr[i + 1][j+1])  # bottom right neighbor\n",
        "            \n",
        "        if i != len(arr) - 1:\n",
        "            new_neighbors.append(arr[i + 1][j])  # bottom neighbor\n",
        "\n",
        "        if j != 0 and i !=len(arr)-1:\n",
        "            new_neighbors.append(arr[i + 1][j-1])  # bottom left neighbor\n",
        "            \n",
        "        if j != 0:\n",
        "            new_neighbors.append(arr[i][j - 1])  # left neighbor     \n",
        "\n",
        "    else:\n",
        "        # add neighbors\n",
        "        new_neighbors = [\n",
        "            arr[i - 1][j-1],  # top left neighbor\n",
        "            arr[i - 1][j],  # top neighbor\n",
        "            arr[i - 1][j+1],  # top right neighbor\n",
        "            arr[i][j + 1],  # right neighbor\n",
        "            arr[i + 1][j+1],  # bottom right neighbor\n",
        "            arr[i + 1][j],  # bottom neighbor\n",
        "            arr[i + 1][j-1],  # bottom left neighbor\n",
        "            arr[i][j - 1]   # left neighbor\n",
        "        ]\n",
        "\n",
        "\n",
        "    return new_neighbors"
      ],
      "execution_count": 182,
      "outputs": []
    },
    {
      "cell_type": "code",
      "metadata": {
        "id": "G8fOgk5zIyQf"
      },
      "source": [
        "# library for coping list without reference\n",
        "import copy\n",
        "\n",
        "# function for generating generation\n",
        "def game_of_life(gen_1,iteration):\n",
        "  # plotting first generation\n",
        "  plt.imshow(gen_1,cmap=\"Greens\")\n",
        "  plt.show()\n",
        "\n",
        "  # iterating for a fixed ammount of time\n",
        "  for it in range(iteration-1):\n",
        "    # dynamically creating list\n",
        "    gen_2=[[0]*5 for i in range(5)]\n",
        "    for i in range(len(gen_1)):\n",
        "        for j, value in enumerate(gen_1[i]):\n",
        "\n",
        "          # for dead cell\n",
        "          if gen_1[i][j]==0:\n",
        "            neighbours=find_neighbours(gen_1,i,j)\n",
        "            if neighbours.count(1)<=2 or neighbours.count(1)>3:\n",
        "              gen_2[i][j]=0\n",
        "            elif neighbours.count(1)==3:\n",
        "              gen_2[i][j]=1\n",
        "\n",
        "          # for live cell\n",
        "          if gen_1[i][j]==1:\n",
        "            neighbours=find_neighbours(gen_1,i,j)\n",
        "            if neighbours.count(1)<2 or neighbours.count(1)>3:\n",
        "              gen_2[i][j]=0\n",
        "            elif neighbours.count(1)==2 or neighbours.count(1)==3:\n",
        "              gen_2[i][j]=1\n",
        "  # ploting next generations\n",
        "    plt.imshow(gen_2,cmap=\"Greens\")\n",
        "    plt.show()\n",
        "    gen_1 = copy.deepcopy(gen_2)\n",
        "    \n"
      ],
      "execution_count": 183,
      "outputs": []
    },
    {
      "cell_type": "code",
      "metadata": {
        "colab": {
          "base_uri": "https://localhost:8080/",
          "height": 761
        },
        "id": "XzO9UOlQiwU9",
        "outputId": "69ea6613-c5e5-416e-ba7e-1d3308f6a213"
      },
      "source": [
        "gen_1=[[0,0,0,0,0],[0,0,1,1,1],[0,1,1,1,0],[0,0,0,0,0],[0,0,0,0,0]]\n",
        "game_of_life(gen_1,3)"
      ],
      "execution_count": 186,
      "outputs": [
        {
          "output_type": "display_data",
          "data": {
            "image/png": "[encoded data removed]",
            "text/plain": [
              "<Figure size 432x288 with 1 Axes>"
            ]
          },
          "metadata": {
            "needs_background": "light"
          }
        },
        {
          "output_type": "display_data",
          "data": {
            "image/png": "[encoded data removed]",
            "text/plain": [
              "<Figure size 432x288 with 1 Axes>"
            ]
          },
          "metadata": {
            "needs_background": "light"
          }
        },
        {
          "output_type": "display_data",
          "data": {
            "image/png": "[encoded data removed]",
            "text/plain": [
              "<Figure size 432x288 with 1 Axes>"
            ]
          },
          "metadata": {
            "needs_background": "light"
          }
        }
      ]
    }
  ]
}